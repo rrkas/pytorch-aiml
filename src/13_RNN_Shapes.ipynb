{
 "cells": [
  {
   "cell_type": "code",
   "execution_count": 1,
   "metadata": {
    "id": "O37zTNYToHBM"
   },
   "outputs": [],
   "source": [
    "import torch\n",
    "import torch.nn as nn\n",
    "import numpy as np\n",
    "import matplotlib.pyplot as plt"
   ]
  },
  {
   "cell_type": "markdown",
   "metadata": {
    "id": "27seZQSop2Aq"
   },
   "source": [
    "Things you should automatically know and have memorized\n",
    "- N = number of samples\n",
    "- T = sequence length\n",
    "- D = number of input features\n",
    "- M = number of hidden units\n",
    "- K = number of output units"
   ]
  },
  {
   "cell_type": "code",
   "execution_count": 2,
   "metadata": {
    "id": "LtjZu2iAp6OM"
   },
   "outputs": [],
   "source": [
    "# Make some data\n",
    "N = 1\n",
    "T = 10\n",
    "D = 3\n",
    "M = 5\n",
    "K = 2\n",
    "X = np.random.randn(N, T, D)"
   ]
  },
  {
   "cell_type": "code",
   "execution_count": 3,
   "metadata": {},
   "outputs": [
    {
     "data": {
      "text/plain": [
       "array([[[-0.2145126 , -0.82924034,  0.71837623],\n",
       "        [ 0.20484409,  1.4874654 ,  0.41106831],\n",
       "        [-1.43036434, -1.49053851, -0.10232902],\n",
       "        [ 0.70392115, -1.01964812,  0.23025271],\n",
       "        [-0.86756248,  1.41292937, -0.58304221],\n",
       "        [ 1.07832312,  0.10191409, -0.13672317],\n",
       "        [ 0.93970527, -1.52924849,  0.25860559],\n",
       "        [-1.04300131,  0.95800718,  0.96767659],\n",
       "        [ 0.27456985, -0.43342495,  0.81013363],\n",
       "        [-0.30134274,  0.27743486, -0.02347497]]])"
      ]
     },
     "execution_count": 3,
     "metadata": {},
     "output_type": "execute_result"
    }
   ],
   "source": [
    "X"
   ]
  },
  {
   "cell_type": "code",
   "execution_count": 4,
   "metadata": {
    "id": "fdBewhacp81e"
   },
   "outputs": [],
   "source": [
    "# Make an RNN\n",
    "class SimpleRNN(nn.Module):\n",
    "  def __init__(self, n_inputs, n_hidden, n_outputs):\n",
    "    super(SimpleRNN, self).__init__()\n",
    "    self.D = n_inputs\n",
    "    self.M = n_hidden\n",
    "    self.K = n_outputs\n",
    "    self.rnn = nn.RNN(\n",
    "        input_size=self.D,\n",
    "        hidden_size=self.M,\n",
    "        nonlinearity='tanh',\n",
    "        batch_first=True)\n",
    "    self.fc = nn.Linear(self.M, self.K)\n",
    "  \n",
    "  def forward(self, X):\n",
    "    # initial hidden states\n",
    "    h0 = torch.zeros(1, X.size(0), self.M)\n",
    "\n",
    "    # get RNN unit output\n",
    "    out, _ = self.rnn(X, h0)\n",
    "\n",
    "    # we only want h(T) at the final time step\n",
    "    # out = self.fc(out[:, -1, :])\n",
    "    out = self.fc(out)\n",
    "    return out"
   ]
  },
  {
   "cell_type": "code",
   "execution_count": 5,
   "metadata": {
    "id": "YPArOn1VqK6p"
   },
   "outputs": [],
   "source": [
    "# Instantiate the model\n",
    "model = SimpleRNN(n_inputs=D, n_hidden=M, n_outputs=K)"
   ]
  },
  {
   "cell_type": "code",
   "execution_count": 6,
   "metadata": {
    "colab": {
     "base_uri": "https://localhost:8080/",
     "height": 187
    },
    "id": "cBhtRdsWqesH",
    "outputId": "e6df59a9-5cb7-4521-cb2f-b5fea66106a4"
   },
   "outputs": [
    {
     "data": {
      "text/plain": [
       "tensor([[[-0.2239,  0.0630],\n",
       "         [ 0.3475,  0.3545],\n",
       "         [ 0.0122,  0.2874],\n",
       "         [-0.2066, -0.0498],\n",
       "         [ 0.3012,  0.3138],\n",
       "         [-0.0663, -0.0452],\n",
       "         [-0.0854, -0.1220],\n",
       "         [ 0.2727,  0.4448],\n",
       "         [ 0.1028,  0.2486],\n",
       "         [ 0.2602,  0.3204]]], grad_fn=<AddBackward0>)"
      ]
     },
     "execution_count": 6,
     "metadata": {},
     "output_type": "execute_result"
    }
   ],
   "source": [
    "# Get the output\n",
    "inputs = torch.from_numpy(X.astype(np.float32))\n",
    "out = model(inputs)\n",
    "out"
   ]
  },
  {
   "cell_type": "code",
   "execution_count": 7,
   "metadata": {
    "colab": {
     "base_uri": "https://localhost:8080/",
     "height": 34
    },
    "id": "ZtWi7zpiHytS",
    "outputId": "b21f90a0-ea7b-4e21-8d32-060d2bf15dea"
   },
   "outputs": [
    {
     "data": {
      "text/plain": [
       "torch.Size([1, 10, 2])"
      ]
     },
     "execution_count": 7,
     "metadata": {},
     "output_type": "execute_result"
    }
   ],
   "source": [
    "out.shape"
   ]
  },
  {
   "cell_type": "code",
   "execution_count": 8,
   "metadata": {
    "id": "ElomWG3CHM-u"
   },
   "outputs": [],
   "source": [
    "# Save for later\n",
    "Yhats_torch = out.detach().numpy()"
   ]
  },
  {
   "cell_type": "code",
   "execution_count": 9,
   "metadata": {
    "id": "2hbbkp9rqx-V"
   },
   "outputs": [],
   "source": [
    "W_xh, W_hh, b_xh, b_hh = model.rnn.parameters()"
   ]
  },
  {
   "cell_type": "code",
   "execution_count": 10,
   "metadata": {
    "colab": {
     "base_uri": "https://localhost:8080/",
     "height": 34
    },
    "id": "n5I00hv6I3Gf",
    "outputId": "f834d8e0-95cf-4835-ec21-0831cda05a8c"
   },
   "outputs": [
    {
     "data": {
      "text/plain": [
       "torch.Size([5, 3])"
      ]
     },
     "execution_count": 10,
     "metadata": {},
     "output_type": "execute_result"
    }
   ],
   "source": [
    "W_xh.shape"
   ]
  },
  {
   "cell_type": "code",
   "execution_count": 11,
   "metadata": {
    "colab": {
     "base_uri": "https://localhost:8080/",
     "height": 119
    },
    "id": "4DHhFRFQrLE4",
    "outputId": "9fd10d70-9395-4612-9c9f-833b60efa0cf"
   },
   "outputs": [
    {
     "data": {
      "text/plain": [
       "Parameter containing:\n",
       "tensor([[-0.3133, -0.1370,  0.1228],\n",
       "        [-0.4295,  0.3651, -0.1348],\n",
       "        [ 0.0151, -0.0023, -0.1058],\n",
       "        [-0.1520,  0.0842, -0.4323],\n",
       "        [ 0.2072,  0.2821,  0.2544]], requires_grad=True)"
      ]
     },
     "execution_count": 11,
     "metadata": {},
     "output_type": "execute_result"
    }
   ],
   "source": [
    "W_xh"
   ]
  },
  {
   "cell_type": "code",
   "execution_count": 12,
   "metadata": {
    "colab": {
     "base_uri": "https://localhost:8080/",
     "height": 102
    },
    "id": "484rEtjsrNFh",
    "outputId": "817242be-df08-4c72-bddd-566eca362daf"
   },
   "outputs": [
    {
     "data": {
      "text/plain": [
       "array([[-0.31327462, -0.13696897,  0.12282461],\n",
       "       [-0.42951876,  0.3650694 , -0.13484144],\n",
       "       [ 0.01510549, -0.00233454, -0.10581511],\n",
       "       [-0.15204582,  0.08415651, -0.43229157],\n",
       "       [ 0.20716923,  0.28213263,  0.25436997]], dtype=float32)"
      ]
     },
     "execution_count": 12,
     "metadata": {},
     "output_type": "execute_result"
    }
   ],
   "source": [
    "W_xh = W_xh.data.numpy()\n",
    "W_xh"
   ]
  },
  {
   "cell_type": "code",
   "execution_count": 13,
   "metadata": {
    "id": "czeD6VkArpDf"
   },
   "outputs": [],
   "source": [
    "b_xh = b_xh.data.numpy()\n",
    "W_hh = W_hh.data.numpy()\n",
    "b_hh = b_hh.data.numpy()"
   ]
  },
  {
   "cell_type": "code",
   "execution_count": 14,
   "metadata": {
    "colab": {
     "base_uri": "https://localhost:8080/",
     "height": 34
    },
    "id": "4kmrm-SOrvIf",
    "outputId": "9ed3ae71-4e6c-4f2e-de1c-03f5e8e8640c"
   },
   "outputs": [
    {
     "data": {
      "text/plain": [
       "((5, 3), (5,), (5, 5), (5,))"
      ]
     },
     "execution_count": 14,
     "metadata": {},
     "output_type": "execute_result"
    }
   ],
   "source": [
    "# Did we do it right?\n",
    "W_xh.shape, b_xh.shape, W_hh.shape, b_hh.shape"
   ]
  },
  {
   "cell_type": "code",
   "execution_count": 15,
   "metadata": {
    "id": "LGagznQWsaZy"
   },
   "outputs": [],
   "source": [
    "# Now get the FC layer weights\n",
    "Wo, bo = model.fc.parameters()"
   ]
  },
  {
   "cell_type": "code",
   "execution_count": 16,
   "metadata": {
    "colab": {
     "base_uri": "https://localhost:8080/",
     "height": 34
    },
    "id": "dnlLdwjfsfNa",
    "outputId": "a358cd2a-dc81-4543-cfc1-820b2d24f09a"
   },
   "outputs": [
    {
     "data": {
      "text/plain": [
       "((2, 5), (2,))"
      ]
     },
     "execution_count": 16,
     "metadata": {},
     "output_type": "execute_result"
    }
   ],
   "source": [
    "Wo = Wo.data.numpy()\n",
    "bo = bo.data.numpy()\n",
    "Wo.shape, bo.shape"
   ]
  },
  {
   "cell_type": "code",
   "execution_count": 17,
   "metadata": {
    "colab": {
     "base_uri": "https://localhost:8080/",
     "height": 187
    },
    "id": "PUsPqqO4sA3A",
    "outputId": "81a72b08-c5d2-4f51-e3cd-b1a28786f4b5"
   },
   "outputs": [
    {
     "name": "stdout",
     "output_type": "stream",
     "text": [
      "[[-0.22385887  0.06295842]\n",
      " [ 0.347535    0.35454032]\n",
      " [ 0.01222177  0.28742997]\n",
      " [-0.20658184 -0.04980624]\n",
      " [ 0.30122686  0.31377456]\n",
      " [-0.06628435 -0.04518584]\n",
      " [-0.08540991 -0.1220065 ]\n",
      " [ 0.27268155  0.44480194]\n",
      " [ 0.10280821  0.24861215]\n",
      " [ 0.2602204   0.32042775]]\n"
     ]
    }
   ],
   "source": [
    "# See if we can replicate the output\n",
    "h_last = np.zeros(M) # initial hidden state\n",
    "x = X[0] # the one and only sample\n",
    "Yhats = np.zeros((T, K)) # where we store the outputs\n",
    "\n",
    "for t in range(T):\n",
    "  h = np.tanh(x[t].dot(W_xh.T) + b_xh + h_last.dot(W_hh.T) + b_hh)\n",
    "  y = h.dot(Wo.T) + bo # we only care about this value on the last iteration\n",
    "  Yhats[t] = y\n",
    "  \n",
    "  # important: assign h to h_last\n",
    "  h_last = h\n",
    "\n",
    "# print the final output\n",
    "print(Yhats)"
   ]
  },
  {
   "cell_type": "code",
   "execution_count": 18,
   "metadata": {
    "colab": {
     "base_uri": "https://localhost:8080/",
     "height": 34
    },
    "id": "q-Bz_OjvHE5a",
    "outputId": "8f91d889-74ba-4eba-c043-dde9abb41af7"
   },
   "outputs": [
    {
     "data": {
      "text/plain": [
       "True"
      ]
     },
     "execution_count": 18,
     "metadata": {},
     "output_type": "execute_result"
    }
   ],
   "source": [
    "# Check\n",
    "np.allclose(Yhats, Yhats_torch)"
   ]
  },
  {
   "cell_type": "code",
   "execution_count": null,
   "metadata": {
    "id": "EqBvQHTvuDy8"
   },
   "outputs": [],
   "source": [
    "# Bonus exercise: calculate the output for multiple samples at once (N > 1)"
   ]
  }
 ],
 "metadata": {
  "colab": {
   "collapsed_sections": [],
   "name": "PyTorch Understanding RNN Shapes.ipynb",
   "provenance": []
  },
  "kernelspec": {
   "display_name": "Python 3 (ipykernel)",
   "language": "python",
   "name": "python3"
  },
  "language_info": {
   "codemirror_mode": {
    "name": "ipython",
    "version": 3
   },
   "file_extension": ".py",
   "mimetype": "text/x-python",
   "name": "python",
   "nbconvert_exporter": "python",
   "pygments_lexer": "ipython3",
   "version": "3.7.0"
  }
 },
 "nbformat": 4,
 "nbformat_minor": 1
}
