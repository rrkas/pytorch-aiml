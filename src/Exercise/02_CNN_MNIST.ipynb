{
 "cells": [
  {
   "cell_type": "code",
   "execution_count": 1,
   "metadata": {
    "id": "2nHyhdZjxbL5"
   },
   "outputs": [],
   "source": [
    "import torch\n",
    "import torch.nn as nn\n",
    "import torchvision\n",
    "import torchvision.transforms as transforms\n",
    "import numpy as np\n",
    "import matplotlib.pyplot as plt\n",
    "from datetime import datetime"
   ]
  },
  {
   "cell_type": "code",
   "execution_count": 2,
   "metadata": {
    "id": "OtsuCeN5xqyw"
   },
   "outputs": [
    {
     "data": {
      "text/plain": [
       "torch.Size([60000, 28, 28])"
      ]
     },
     "execution_count": 2,
     "metadata": {},
     "output_type": "execute_result"
    }
   ],
   "source": [
    "train_dataset = torchvision.datasets.MNIST(\n",
    "    root='../data_downloadable',\n",
    "    train=True,\n",
    "    transform=transforms.ToTensor(),\n",
    "    download=True,\n",
    ")\n",
    "train_dataset.data.shape"
   ]
  },
  {
   "cell_type": "code",
   "execution_count": 3,
   "metadata": {
    "id": "ErmWTQ57x34T"
   },
   "outputs": [
    {
     "data": {
      "text/plain": [
       "torch.Size([10000, 28, 28])"
      ]
     },
     "execution_count": 3,
     "metadata": {},
     "output_type": "execute_result"
    }
   ],
   "source": [
    "test_dataset = torchvision.datasets.MNIST(\n",
    "    root='../data_downloadable',\n",
    "    train=False,\n",
    "    transform=transforms.ToTensor(),\n",
    "    download=True,\n",
    ")\n",
    "test_dataset.data.shape"
   ]
  },
  {
   "cell_type": "code",
   "execution_count": 4,
   "metadata": {
    "colab": {
     "base_uri": "https://localhost:8080/",
     "height": 34
    },
    "id": "zf2d9f66x9wV",
    "outputId": "6670dd2e-82a6-4ff8-817e-1ee75d02c741"
   },
   "outputs": [
    {
     "name": "stdout",
     "output_type": "stream",
     "text": [
      "number of classes: 10\n"
     ]
    }
   ],
   "source": [
    "# number of classes\n",
    "K = len(set(train_dataset.targets.numpy()))\n",
    "print(\"number of classes:\", K)"
   ]
  },
  {
   "cell_type": "code",
   "execution_count": 5,
   "metadata": {
    "id": "UKYv3XWHyjTL"
   },
   "outputs": [],
   "source": [
    "# Define the model\n",
    "class CNN(nn.Module):\n",
    "  def __init__(self, K):\n",
    "    super(CNN, self).__init__()\n",
    "    self.conv_layers = nn.Sequential(\n",
    "      nn.Conv2d(in_channels=1, out_channels=32, kernel_size=3, stride=2),\n",
    "      nn.ReLU(),\n",
    "      nn.Conv2d(in_channels=32, out_channels=64, kernel_size=3, stride=2),\n",
    "      nn.ReLU(),\n",
    "      nn.Conv2d(in_channels=64, out_channels=128, kernel_size=3, stride=2),\n",
    "      nn.ReLU()\n",
    "    )\n",
    "    # http://deeplearning.net/software/theano/tutorial/conv_arithmetic.html\n",
    "    # \"No zero padding, non-unit strides\"\n",
    "    # https://pytorch.org/docs/stable/nn.html\n",
    "    self.dense_layers = nn.Sequential(\n",
    "      nn.Dropout(0.2),\n",
    "      nn.Linear(128 * 2 * 2, 512),\n",
    "      nn.ReLU(),\n",
    "      nn.Dropout(0.2),\n",
    "      nn.Linear(512, K)\n",
    "    )\n",
    "  \n",
    "  def forward(self, X):\n",
    "    out = self.conv_layers(X)\n",
    "    out = out.view(out.size(0), -1)\n",
    "    out = self.dense_layers(out)\n",
    "    return out\n"
   ]
  },
  {
   "cell_type": "code",
   "execution_count": 6,
   "metadata": {
    "id": "W4YWDGpX1kNt"
   },
   "outputs": [],
   "source": [
    "# Instantiate the model\n",
    "model = CNN(K)"
   ]
  },
  {
   "cell_type": "markdown",
   "metadata": {
    "id": "pHQ4tzuNkdm4"
   },
   "source": [
    "`The same model! Using the newly introduced \"Flatten\"  \n",
    "model = nn.Sequential(  \n",
    "    nn.Conv2d(in_channels=1, out_channels=32, kernel_size=3, stride=2),  \n",
    "    nn.ReLU(),  \n",
    "    nn.Conv2d(in_channels=32, out_channels=64, kernel_size=3, stride=2),  \n",
    "    nn.ReLU(),  \n",
    "    nn.Conv2d(in_channels=64, out_channels=128, kernel_size=3, stride=2),  \n",
    "    nn.ReLU(),  \n",
    "    nn.Flatten(),  \n",
    "    nn.Dropout(0.2),  \n",
    "    nn.Linear(128 * 2 * 2, 512),  \n",
    "    nn.ReLU(),  \n",
    "    nn.Dropout(0.2),  \n",
    "    nn.Linear(512, K)  \n",
    ")`"
   ]
  },
  {
   "cell_type": "code",
   "execution_count": 7,
   "metadata": {
    "colab": {
     "base_uri": "https://localhost:8080/",
     "height": 323
    },
    "id": "lb-Fs4Z0RCfA",
    "outputId": "c2a993f8-650a-4695-dba9-e83882fa7451"
   },
   "outputs": [
    {
     "name": "stdout",
     "output_type": "stream",
     "text": [
      "cpu\n"
     ]
    },
    {
     "data": {
      "text/plain": [
       "CNN(\n",
       "  (conv_layers): Sequential(\n",
       "    (0): Conv2d(1, 32, kernel_size=(3, 3), stride=(2, 2))\n",
       "    (1): ReLU()\n",
       "    (2): Conv2d(32, 64, kernel_size=(3, 3), stride=(2, 2))\n",
       "    (3): ReLU()\n",
       "    (4): Conv2d(64, 128, kernel_size=(3, 3), stride=(2, 2))\n",
       "    (5): ReLU()\n",
       "  )\n",
       "  (dense_layers): Sequential(\n",
       "    (0): Dropout(p=0.2, inplace=False)\n",
       "    (1): Linear(in_features=512, out_features=512, bias=True)\n",
       "    (2): ReLU()\n",
       "    (3): Dropout(p=0.2, inplace=False)\n",
       "    (4): Linear(in_features=512, out_features=10, bias=True)\n",
       "  )\n",
       ")"
      ]
     },
     "execution_count": 7,
     "metadata": {},
     "output_type": "execute_result"
    }
   ],
   "source": [
    "device = torch.device(\"cuda:0\" if torch.cuda.is_available() else \"cpu\")\n",
    "print(device)\n",
    "model.to(device)"
   ]
  },
  {
   "cell_type": "code",
   "execution_count": 8,
   "metadata": {
    "id": "vcIQJicJ1sco"
   },
   "outputs": [],
   "source": [
    "# Loss and optimizer\n",
    "criterion = nn.CrossEntropyLoss()\n",
    "optimizer = torch.optim.Adam(model.parameters())"
   ]
  },
  {
   "cell_type": "code",
   "execution_count": 9,
   "metadata": {
    "id": "2YaUc5PN1_s0"
   },
   "outputs": [],
   "source": [
    "# Data loader\n",
    "# Useful because it automatically generates batches in the training loop\n",
    "# and takes care of shuffling\n",
    "\n",
    "batch_size = 128\n",
    "train_loader = torch.utils.data.DataLoader(dataset=train_dataset, \n",
    "                                           batch_size=batch_size, \n",
    "                                           shuffle=True)\n",
    "\n",
    "test_loader = torch.utils.data.DataLoader(dataset=test_dataset, \n",
    "                                          batch_size=batch_size, \n",
    "                                          shuffle=False)"
   ]
  },
  {
   "cell_type": "code",
   "execution_count": 10,
   "metadata": {
    "id": "bUDs5Dju1yE6"
   },
   "outputs": [],
   "source": [
    "# A function to encapsulate the training loop\n",
    "def batch_gd(model, criterion, optimizer, train_loader, test_loader, epochs):\n",
    "  train_losses = np.zeros(epochs)\n",
    "  test_losses = np.zeros(epochs)\n",
    "\n",
    "  for it in range(epochs):\n",
    "    model.train()\n",
    "    t0 = datetime.now()\n",
    "    train_loss = []\n",
    "    for inputs, targets in train_loader:\n",
    "      # move data to GPU\n",
    "      inputs, targets = inputs.to(device), targets.to(device)\n",
    "\n",
    "      # zero the parameter gradients\n",
    "      optimizer.zero_grad()\n",
    "\n",
    "      # Forward pass\n",
    "      outputs = model(inputs)\n",
    "      loss = criterion(outputs, targets)\n",
    "        \n",
    "      # Backward and optimize\n",
    "      loss.backward()\n",
    "      optimizer.step()\n",
    "\n",
    "      train_loss.append(loss.item())\n",
    "\n",
    "    # Get train loss and test loss\n",
    "    train_loss = np.mean(train_loss) # a little misleading\n",
    "    \n",
    "    model.eval()\n",
    "    test_loss = []\n",
    "    for inputs, targets in test_loader:\n",
    "      inputs, targets = inputs.to(device), targets.to(device)\n",
    "      outputs = model(inputs)\n",
    "      loss = criterion(outputs, targets)\n",
    "      test_loss.append(loss.item())\n",
    "    test_loss = np.mean(test_loss)\n",
    "\n",
    "    # Save losses\n",
    "    train_losses[it] = train_loss\n",
    "    test_losses[it] = test_loss\n",
    "    \n",
    "    dt = datetime.now() - t0\n",
    "    print(f'Epoch {it+1}/{epochs}, Train Loss: {train_loss:.4f}, \\\n",
    "      Test Loss: {test_loss:.4f}, Duration: {dt}')\n",
    "  \n",
    "  return train_losses, test_losses"
   ]
  },
  {
   "cell_type": "code",
   "execution_count": 11,
   "metadata": {
    "colab": {
     "base_uri": "https://localhost:8080/",
     "height": 272
    },
    "id": "6reGQj7e2ngB",
    "outputId": "ec58896d-e784-4967-b7fa-2e81869ba781"
   },
   "outputs": [
    {
     "name": "stdout",
     "output_type": "stream",
     "text": [
      "Epoch 1/15, Train Loss: 0.3139,       Test Loss: 0.1005, Duration: 0:00:21.619117\n",
      "Epoch 2/15, Train Loss: 0.0921,       Test Loss: 0.0567, Duration: 0:00:19.955098\n",
      "Epoch 3/15, Train Loss: 0.0622,       Test Loss: 0.0493, Duration: 0:00:20.494403\n",
      "Epoch 4/15, Train Loss: 0.0513,       Test Loss: 0.0438, Duration: 0:00:20.092054\n",
      "Epoch 5/15, Train Loss: 0.0399,       Test Loss: 0.0431, Duration: 0:00:19.744384\n",
      "Epoch 6/15, Train Loss: 0.0340,       Test Loss: 0.0433, Duration: 0:00:19.652378\n",
      "Epoch 7/15, Train Loss: 0.0283,       Test Loss: 0.0376, Duration: 0:00:19.175239\n",
      "Epoch 8/15, Train Loss: 0.0258,       Test Loss: 0.0367, Duration: 0:00:19.734221\n",
      "Epoch 9/15, Train Loss: 0.0238,       Test Loss: 0.0364, Duration: 0:00:19.961043\n",
      "Epoch 10/15, Train Loss: 0.0195,       Test Loss: 0.0367, Duration: 0:00:19.314357\n",
      "Epoch 11/15, Train Loss: 0.0185,       Test Loss: 0.0382, Duration: 0:00:19.567744\n",
      "Epoch 12/15, Train Loss: 0.0167,       Test Loss: 0.0359, Duration: 0:00:19.871330\n",
      "Epoch 13/15, Train Loss: 0.0152,       Test Loss: 0.0343, Duration: 0:00:19.877743\n",
      "Epoch 14/15, Train Loss: 0.0130,       Test Loss: 0.0424, Duration: 0:00:20.573373\n",
      "Epoch 15/15, Train Loss: 0.0142,       Test Loss: 0.0442, Duration: 0:00:20.566218\n"
     ]
    }
   ],
   "source": [
    "train_losses, test_losses = batch_gd(model, criterion, optimizer, train_loader, test_loader, epochs=15)"
   ]
  },
  {
   "cell_type": "code",
   "execution_count": 12,
   "metadata": {
    "colab": {
     "base_uri": "https://localhost:8080/",
     "height": 265
    },
    "id": "i9lcGrRs46LY",
    "outputId": "bc86b80b-bbab-4609-8b7b-43f27ea75441"
   },
   "outputs": [
    {
     "data": {
      "image/png": "[encoded data removed]",
      "text/plain": [
       "<Figure size 432x288 with 1 Axes>"
      ]
     },
     "metadata": {
      "needs_background": "light"
     },
     "output_type": "display_data"
    }
   ],
   "source": [
    "# Plot the train loss and test loss per iteration\n",
    "plt.plot(train_losses, label='train loss')\n",
    "plt.plot(test_losses, label='test loss')\n",
    "plt.legend()\n",
    "plt.show()"
   ]
  },
  {
   "cell_type": "code",
   "execution_count": 13,
   "metadata": {
    "colab": {
     "base_uri": "https://localhost:8080/",
     "height": 34
    },
    "id": "8PyRq_4I5UoR",
    "outputId": "e5d186ca-ef90-4f5d-bf85-8d1d706b9e56"
   },
   "outputs": [
    {
     "name": "stdout",
     "output_type": "stream",
     "text": [
      "Train acc: 0.9987, Test acc: 0.9896\n"
     ]
    }
   ],
   "source": [
    "# Accuracy\n",
    "\n",
    "model.eval()\n",
    "n_correct = 0.\n",
    "n_total = 0.\n",
    "for inputs, targets in train_loader:\n",
    "  # move data to GPU\n",
    "  inputs, targets = inputs.to(device), targets.to(device)\n",
    "\n",
    "  # Forward pass\n",
    "  outputs = model(inputs)\n",
    "\n",
    "  # Get prediction\n",
    "  # torch.max returns both max and argmax\n",
    "  _, predictions = torch.max(outputs, 1)\n",
    "  \n",
    "  # update counts\n",
    "  n_correct += (predictions == targets).sum().item()\n",
    "  n_total += targets.shape[0]\n",
    "\n",
    "train_acc = n_correct / n_total\n",
    "\n",
    "\n",
    "n_correct = 0.\n",
    "n_total = 0.\n",
    "for inputs, targets in test_loader:\n",
    "  # move data to GPU\n",
    "  inputs, targets = inputs.to(device), targets.to(device)\n",
    "\n",
    "  # Forward pass\n",
    "  outputs = model(inputs)\n",
    "\n",
    "  # Get prediction\n",
    "  # torch.max returns both max and argmax\n",
    "  _, predictions = torch.max(outputs, 1)\n",
    "  \n",
    "  # update counts\n",
    "  n_correct += (predictions == targets).sum().item()\n",
    "  n_total += targets.shape[0]\n",
    "\n",
    "test_acc = n_correct / n_total\n",
    "print(f\"Train acc: {train_acc:.4f}, Test acc: {test_acc:.4f}\")"
   ]
  },
  {
   "cell_type": "code",
   "execution_count": 14,
   "metadata": {
    "id": "thYrBZd45eqS"
   },
   "outputs": [],
   "source": [
    "# Confusion matrix\n",
    "from sklearn.metrics import confusion_matrix\n",
    "import itertools\n",
    "\n",
    "def plot_confusion_matrix(cm, classes,\n",
    "                          normalize=False,\n",
    "                          title='Confusion matrix',\n",
    "                          cmap=plt.cm.Blues):\n",
    "  \"\"\"\n",
    "  This function prints and plots the confusion matrix.\n",
    "  Normalization can be applied by setting `normalize=True`.\n",
    "  \"\"\"\n",
    "  if normalize:\n",
    "      cm = cm.astype('float') / cm.sum(axis=1)[:, np.newaxis]\n",
    "      print(\"Normalized confusion matrix\")\n",
    "  else:\n",
    "      print('Confusion matrix, without normalization')\n",
    "\n",
    "  print(cm)\n",
    "\n",
    "  plt.imshow(cm, interpolation='nearest', cmap=cmap)\n",
    "  plt.title(title)\n",
    "  plt.colorbar()\n",
    "  tick_marks = np.arange(len(classes))\n",
    "  plt.xticks(tick_marks, classes, rotation=45)\n",
    "  plt.yticks(tick_marks, classes)\n",
    "\n",
    "  fmt = '.2f' if normalize else 'd'\n",
    "  thresh = cm.max() / 2.\n",
    "  for i, j in itertools.product(range(cm.shape[0]), range(cm.shape[1])):\n",
    "      plt.text(j, i, format(cm[i, j], fmt),\n",
    "               horizontalalignment=\"center\",\n",
    "               color=\"white\" if cm[i, j] > thresh else \"black\")\n",
    "\n",
    "  plt.tight_layout()\n",
    "  plt.ylabel('True label')\n",
    "  plt.xlabel('Predicted label')\n",
    "  plt.show()"
   ]
  },
  {
   "cell_type": "code",
   "execution_count": 15,
   "metadata": {
    "colab": {
     "base_uri": "https://localhost:8080/",
     "height": 498
    },
    "id": "KQRgUZCU5hDL",
    "outputId": "99cb4da8-9dba-4aa8-c77f-3968451d9f9b"
   },
   "outputs": [
    {
     "name": "stdout",
     "output_type": "stream",
     "text": [
      "Confusion matrix, without normalization\n",
      "[[ 977    0    0    0    0    0    1    2    0    0]\n",
      " [   0 1134    0    0    0    0    1    0    0    0]\n",
      " [   1    2 1022    0    0    0    1    6    0    0]\n",
      " [   0    1    4  999    0    2    0    1    2    1]\n",
      " [   0    0    2    0  973    0    3    1    1    2]\n",
      " [   2    0    0    7    0  879    2    1    1    0]\n",
      " [   6    2    2    0    1    2  944    0    1    0]\n",
      " [   0    4    4    0    1    0    0 1018    1    0]\n",
      " [   5    1    1    0    2    1    0    0  961    3]\n",
      " [   3    1    0    0    7    3    1    3    2  989]]\n"
     ]
    },
    {
     "data": {
      "image/png": "[encoded data removed]",
      "text/plain": [
       "<Figure size 432x288 with 2 Axes>"
      ]
     },
     "metadata": {
      "needs_background": "light"
     },
     "output_type": "display_data"
    }
   ],
   "source": [
    "# get all predictions in an array and plot confusion matrix\n",
    "\n",
    "x_test = test_dataset.data.numpy()\n",
    "y_test = test_dataset.targets.numpy()\n",
    "p_test = np.array([])\n",
    "for inputs, targets in test_loader:\n",
    "  # move data to GPU\n",
    "  inputs, targets = inputs.to(device), targets.to(device)\n",
    "\n",
    "  # Forward pass\n",
    "  outputs = model(inputs)\n",
    "\n",
    "  # Get prediction\n",
    "  _, predictions = torch.max(outputs, 1)\n",
    "  \n",
    "  # update p_test\n",
    "  p_test = np.concatenate((p_test, predictions.cpu().numpy()))\n",
    "\n",
    "cm = confusion_matrix(y_test, p_test)\n",
    "plot_confusion_matrix(cm, list(range(10)))"
   ]
  },
  {
   "cell_type": "code",
   "execution_count": 18,
   "metadata": {
    "colab": {
     "base_uri": "https://localhost:8080/",
     "height": 281
    },
    "id": "xHNAM8xA5uni",
    "outputId": "1e82fcd6-8d78-4fc3-fba9-a4ad43c63f54"
   },
   "outputs": [
    {
     "data": {
      "image/png": "[encoded data removed]",
      "text/plain": [
       "<Figure size 432x288 with 1 Axes>"
      ]
     },
     "metadata": {
      "needs_background": "light"
     },
     "output_type": "display_data"
    }
   ],
   "source": [
    "# Show some misclassified examples\n",
    "p_test = p_test.astype(np.uint8)\n",
    "misclassified_idx = np.where(p_test != y_test)[0]\n",
    "i = np.random.choice(misclassified_idx)\n",
    "plt.imshow(x_test[i].reshape(28,28), cmap='gray')\n",
    "plt.title(\"True label: %s Predicted: %s\" % (y_test[i], p_test[i]));"
   ]
  },
  {
   "cell_type": "code",
   "execution_count": null,
   "metadata": {},
   "outputs": [],
   "source": []
  }
 ],
 "metadata": {
  "accelerator": "GPU",
  "colab": {
   "collapsed_sections": [],
   "name": "PyTorch CNN Fashion MNIST.ipynb",
   "provenance": []
  },
  "kernelspec": {
   "display_name": "Python 3 (ipykernel)",
   "language": "python",
   "name": "python3"
  },
  "language_info": {
   "codemirror_mode": {
    "name": "ipython",
    "version": 3
   },
   "file_extension": ".py",
   "mimetype": "text/x-python",
   "name": "python",
   "nbconvert_exporter": "python",
   "pygments_lexer": "ipython3",
   "version": "3.7.0"
  }
 },
 "nbformat": 4,
 "nbformat_minor": 1
}
