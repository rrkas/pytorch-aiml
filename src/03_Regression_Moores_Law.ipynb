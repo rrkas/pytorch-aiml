{
 "cells": [
  {
   "cell_type": "code",
   "execution_count": 1,
   "metadata": {
    "id": "qsLqViekTo-d"
   },
   "outputs": [],
   "source": [
    "import torch\n",
    "import torch.nn as nn\n",
    "import pandas as pd\n",
    "import numpy as np\n",
    "import matplotlib.pyplot as plt\n",
    "import downloader"
   ]
  },
  {
   "cell_type": "code",
   "execution_count": 3,
   "metadata": {
    "colab": {
     "base_uri": "https://localhost:8080/",
     "height": 224
    },
    "id": "vjipHw9CZVmJ",
    "outputId": "c5b73f9c-dd07-4bb5-9b6b-234305ee0bc5"
   },
   "outputs": [
    {
     "name": "stdout",
     "output_type": "stream",
     "text": [
      "moore.csv download complete\n"
     ]
    }
   ],
   "source": [
    "# Get the data\n",
    "url = \"https://raw.githubusercontent.com/lazyprogrammer/machine_learning_examples/master/tf2.0/moore.csv\"\n",
    "file_name = \"moore.csv\"\n",
    "\n",
    "downloader.download_from_url(url, file_name)\n",
    "download_path = downloader.download_path"
   ]
  },
  {
   "cell_type": "code",
   "execution_count": 4,
   "metadata": {
    "id": "JPNNOW5CZXd3"
   },
   "outputs": [],
   "source": [
    "# Load in the data\n",
    "data = pd.read_csv(f'{download_path}/moore.csv', header=None).values\n",
    "X = data[:,0].reshape(-1, 1) # make it a 2-D array of size N x D where D = 1\n",
    "Y = data[:,1].reshape(-1, 1)\n",
    "# -1 means size unknown"
   ]
  },
  {
   "cell_type": "code",
   "execution_count": 5,
   "metadata": {
    "colab": {
     "base_uri": "https://localhost:8080/",
     "height": 293
    },
    "id": "1BuaVYUCZZhR",
    "outputId": "ecc57f9e-6ef3-4849-dd2f-e095cd13be43"
   },
   "outputs": [
    {
     "data": {
      "text/plain": [
       "<matplotlib.collections.PathCollection at 0x2235d1043c8>"
      ]
     },
     "execution_count": 5,
     "metadata": {},
     "output_type": "execute_result"
    },
    {
     "data": {
      "image/png": "[encoded data removed]",
      "text/plain": [
       "<Figure size 432x288 with 1 Axes>"
      ]
     },
     "metadata": {
      "needs_background": "light"
     },
     "output_type": "display_data"
    }
   ],
   "source": [
    "# Plot the data - it is exponential!\n",
    "plt.scatter(X, Y)"
   ]
  },
  {
   "cell_type": "code",
   "execution_count": 6,
   "metadata": {
    "colab": {
     "base_uri": "https://localhost:8080/",
     "height": 265
    },
    "id": "Sci4T76UZbct",
    "outputId": "ac4cfbc9-2f8d-4eb5-8072-daa5fd5e277a"
   },
   "outputs": [
    {
     "data": {
      "image/png": "[encoded data removed]",
      "text/plain": [
       "<Figure size 432x288 with 1 Axes>"
      ]
     },
     "metadata": {
      "needs_background": "light"
     },
     "output_type": "display_data"
    }
   ],
   "source": [
    "# Since we want a linear model, let's take the log\n",
    "Y = np.log(Y)\n",
    "plt.scatter(X, Y);\n",
    "# that's better"
   ]
  },
  {
   "cell_type": "code",
   "execution_count": 7,
   "metadata": {
    "id": "1B8sRXfGZeHj"
   },
   "outputs": [
    {
     "name": "stdout",
     "output_type": "stream",
     "text": [
      "2002.1975308641975 13.647610701290743\n",
      "17.76493939363179 4.7555444592907605\n"
     ]
    }
   ],
   "source": [
    "# Scale and center both the x and y axes\n",
    "mx = X.mean()\n",
    "sx = X.std()\n",
    "X = (X - mx)/sx\n",
    "print(mx, sx)\n",
    "\n",
    "my = Y.mean()\n",
    "sy = Y.std()\n",
    "Y = (Y - my)/sy\n",
    "print(my, sy)"
   ]
  },
  {
   "cell_type": "code",
   "execution_count": 10,
   "metadata": {
    "colab": {
     "base_uri": "https://localhost:8080/",
     "height": 265
    },
    "id": "RD8HrPmexpCq",
    "outputId": "2f384232-88c5-4db9-ab60-4c592e5ae7eb"
   },
   "outputs": [
    {
     "data": {
      "image/png": "[encoded data removed]",
      "text/plain": [
       "<Figure size 432x288 with 1 Axes>"
      ]
     },
     "metadata": {
      "needs_background": "light"
     },
     "output_type": "display_data"
    }
   ],
   "source": [
    "# Everything is centered and in a small range\n",
    "plt.scatter(X, Y);"
   ]
  },
  {
   "cell_type": "code",
   "execution_count": 11,
   "metadata": {
    "id": "xw8Nc8QZb_wX"
   },
   "outputs": [],
   "source": [
    "# Cast to float32\n",
    "X = X.astype(np.float32)\n",
    "Y = Y.astype(np.float32)"
   ]
  },
  {
   "cell_type": "code",
   "execution_count": 12,
   "metadata": {
    "id": "N2NcT0z5W1Um"
   },
   "outputs": [],
   "source": [
    "# Create the linear regression model\n",
    "model = nn.Linear(1, 1)"
   ]
  },
  {
   "cell_type": "code",
   "execution_count": 13,
   "metadata": {
    "id": "rvZW03cqW6SS"
   },
   "outputs": [],
   "source": [
    "# Loss and optimizer\n",
    "criterion = nn.MSELoss()\n",
    "optimizer = torch.optim.SGD(model.parameters(), lr=0.01, momentum=0.7)"
   ]
  },
  {
   "cell_type": "code",
   "execution_count": 14,
   "metadata": {
    "id": "vPrBVibsaWoj"
   },
   "outputs": [],
   "source": [
    "inputs = torch.from_numpy(X)\n",
    "targets = torch.from_numpy(Y)"
   ]
  },
  {
   "cell_type": "code",
   "execution_count": 15,
   "metadata": {
    "colab": {
     "base_uri": "https://localhost:8080/",
     "height": 34
    },
    "id": "5Zd0PFWBaanm",
    "outputId": "76be8274-f0a3-411b-dfbb-6d210fb9e6cc"
   },
   "outputs": [
    {
     "data": {
      "text/plain": [
       "torch.Tensor"
      ]
     },
     "execution_count": 15,
     "metadata": {},
     "output_type": "execute_result"
    }
   ],
   "source": [
    "type(inputs)"
   ]
  },
  {
   "cell_type": "code",
   "execution_count": 16,
   "metadata": {
    "colab": {
     "base_uri": "https://localhost:8080/",
     "height": 1000
    },
    "id": "LnGJqtXSW_eV",
    "outputId": "61f809a9-702d-4d51-dca4-53eebb38c5b2"
   },
   "outputs": [
    {
     "name": "stdout",
     "output_type": "stream",
     "text": [
      "Epoch 1/100, Loss: 4.0909\n",
      "Epoch 2/100, Loss: 3.9304\n",
      "Epoch 3/100, Loss: 3.6681\n",
      "Epoch 4/100, Loss: 3.3498\n",
      "Epoch 5/100, Loss: 3.0089\n",
      "Epoch 6/100, Loss: 2.6683\n",
      "Epoch 7/100, Loss: 2.3427\n",
      "Epoch 8/100, Loss: 2.0408\n",
      "Epoch 9/100, Loss: 1.7668\n",
      "Epoch 10/100, Loss: 1.5222\n",
      "Epoch 11/100, Loss: 1.3067\n",
      "Epoch 12/100, Loss: 1.1186\n",
      "Epoch 13/100, Loss: 0.9556\n",
      "Epoch 14/100, Loss: 0.8153\n",
      "Epoch 15/100, Loss: 0.6952\n",
      "Epoch 16/100, Loss: 0.5927\n",
      "Epoch 17/100, Loss: 0.5055\n",
      "Epoch 18/100, Loss: 0.4316\n",
      "Epoch 19/100, Loss: 0.3691\n",
      "Epoch 20/100, Loss: 0.3163\n",
      "Epoch 21/100, Loss: 0.2718\n",
      "Epoch 22/100, Loss: 0.2343\n",
      "Epoch 23/100, Loss: 0.2027\n",
      "Epoch 24/100, Loss: 0.1762\n",
      "Epoch 25/100, Loss: 0.1539\n",
      "Epoch 26/100, Loss: 0.1352\n",
      "Epoch 27/100, Loss: 0.1196\n",
      "Epoch 28/100, Loss: 0.1064\n",
      "Epoch 29/100, Loss: 0.0954\n",
      "Epoch 30/100, Loss: 0.0861\n",
      "Epoch 31/100, Loss: 0.0784\n",
      "Epoch 32/100, Loss: 0.0719\n",
      "Epoch 33/100, Loss: 0.0664\n",
      "Epoch 34/100, Loss: 0.0619\n",
      "Epoch 35/100, Loss: 0.0581\n",
      "Epoch 36/100, Loss: 0.0549\n",
      "Epoch 37/100, Loss: 0.0522\n",
      "Epoch 38/100, Loss: 0.0500\n",
      "Epoch 39/100, Loss: 0.0481\n",
      "Epoch 40/100, Loss: 0.0465\n",
      "Epoch 41/100, Loss: 0.0452\n",
      "Epoch 42/100, Loss: 0.0441\n",
      "Epoch 43/100, Loss: 0.0432\n",
      "Epoch 44/100, Loss: 0.0424\n",
      "Epoch 45/100, Loss: 0.0418\n",
      "Epoch 46/100, Loss: 0.0412\n",
      "Epoch 47/100, Loss: 0.0408\n",
      "Epoch 48/100, Loss: 0.0404\n",
      "Epoch 49/100, Loss: 0.0401\n",
      "Epoch 50/100, Loss: 0.0398\n",
      "Epoch 51/100, Loss: 0.0396\n",
      "Epoch 52/100, Loss: 0.0394\n",
      "Epoch 53/100, Loss: 0.0393\n",
      "Epoch 54/100, Loss: 0.0391\n",
      "Epoch 55/100, Loss: 0.0390\n",
      "Epoch 56/100, Loss: 0.0389\n",
      "Epoch 57/100, Loss: 0.0389\n",
      "Epoch 58/100, Loss: 0.0388\n",
      "Epoch 59/100, Loss: 0.0388\n",
      "Epoch 60/100, Loss: 0.0387\n",
      "Epoch 61/100, Loss: 0.0387\n",
      "Epoch 62/100, Loss: 0.0386\n",
      "Epoch 63/100, Loss: 0.0386\n",
      "Epoch 64/100, Loss: 0.0386\n",
      "Epoch 65/100, Loss: 0.0386\n",
      "Epoch 66/100, Loss: 0.0386\n",
      "Epoch 67/100, Loss: 0.0385\n",
      "Epoch 68/100, Loss: 0.0385\n",
      "Epoch 69/100, Loss: 0.0385\n",
      "Epoch 70/100, Loss: 0.0385\n",
      "Epoch 71/100, Loss: 0.0385\n",
      "Epoch 72/100, Loss: 0.0385\n",
      "Epoch 73/100, Loss: 0.0385\n",
      "Epoch 74/100, Loss: 0.0385\n",
      "Epoch 75/100, Loss: 0.0385\n",
      "Epoch 76/100, Loss: 0.0385\n",
      "Epoch 77/100, Loss: 0.0385\n",
      "Epoch 78/100, Loss: 0.0385\n",
      "Epoch 79/100, Loss: 0.0385\n",
      "Epoch 80/100, Loss: 0.0385\n",
      "Epoch 81/100, Loss: 0.0385\n",
      "Epoch 82/100, Loss: 0.0385\n",
      "Epoch 83/100, Loss: 0.0385\n",
      "Epoch 84/100, Loss: 0.0385\n",
      "Epoch 85/100, Loss: 0.0385\n",
      "Epoch 86/100, Loss: 0.0385\n",
      "Epoch 87/100, Loss: 0.0385\n",
      "Epoch 88/100, Loss: 0.0385\n",
      "Epoch 89/100, Loss: 0.0385\n",
      "Epoch 90/100, Loss: 0.0385\n",
      "Epoch 91/100, Loss: 0.0385\n",
      "Epoch 92/100, Loss: 0.0385\n",
      "Epoch 93/100, Loss: 0.0385\n",
      "Epoch 94/100, Loss: 0.0385\n",
      "Epoch 95/100, Loss: 0.0385\n",
      "Epoch 96/100, Loss: 0.0385\n",
      "Epoch 97/100, Loss: 0.0385\n",
      "Epoch 98/100, Loss: 0.0385\n",
      "Epoch 99/100, Loss: 0.0385\n",
      "Epoch 100/100, Loss: 0.0385\n"
     ]
    }
   ],
   "source": [
    "# Train the model\n",
    "n_epochs = 100\n",
    "losses = []\n",
    "for it in range(n_epochs):\n",
    "  # zero the parameter gradients\n",
    "  optimizer.zero_grad()\n",
    "\n",
    "  # Forward pass\n",
    "  outputs = model(inputs)\n",
    "  loss = criterion(outputs, targets)\n",
    "\n",
    "  # Record the loss\n",
    "  losses.append(loss.item())\n",
    "    \n",
    "  # Backward and optimize\n",
    "  loss.backward()\n",
    "  optimizer.step()\n",
    "    \n",
    "  print(f'Epoch {it+1}/{n_epochs}, Loss: {loss.item():.4f}')"
   ]
  },
  {
   "cell_type": "code",
   "execution_count": 17,
   "metadata": {
    "colab": {
     "base_uri": "https://localhost:8080/",
     "height": 265
    },
    "id": "paYvYiryo3ze",
    "outputId": "3b94e234-2a59-490c-a714-822e59625989"
   },
   "outputs": [
    {
     "data": {
      "image/png": "[encoded data removed]",
      "text/plain": [
       "<Figure size 432x288 with 1 Axes>"
      ]
     },
     "metadata": {
      "needs_background": "light"
     },
     "output_type": "display_data"
    }
   ],
   "source": [
    "# Loss per iteration\n",
    "plt.plot(losses);"
   ]
  },
  {
   "cell_type": "code",
   "execution_count": 18,
   "metadata": {
    "colab": {
     "base_uri": "https://localhost:8080/",
     "height": 265
    },
    "id": "cQcBiTDSbjRr",
    "outputId": "bffc4e16-dfc7-443b-9f55-6c9d3c30fefb"
   },
   "outputs": [
    {
     "data": {
      "image/png": "[encoded data removed]",
      "text/plain": [
       "<Figure size 432x288 with 1 Axes>"
      ]
     },
     "metadata": {
      "needs_background": "light"
     },
     "output_type": "display_data"
    }
   ],
   "source": [
    "# Plot the graph\n",
    "predicted = model(torch.from_numpy(X)).detach().numpy()\n",
    "plt.plot(X, Y, 'ro', label='Original data')\n",
    "plt.plot(X, predicted, label='Fitted line')\n",
    "plt.legend()\n",
    "plt.show()"
   ]
  },
  {
   "cell_type": "code",
   "execution_count": 19,
   "metadata": {
    "colab": {
     "base_uri": "https://localhost:8080/",
     "height": 34
    },
    "id": "HyWDprSQP5ON",
    "outputId": "b7cff439-8272-48ba-d9b4-9d5801c5081d"
   },
   "outputs": [
    {
     "name": "stdout",
     "output_type": "stream",
     "text": [
      "0.9801862835884094\n"
     ]
    }
   ],
   "source": [
    "# What does this mean?\n",
    "w = model.weight.data.item()\n",
    "print(w)"
   ]
  },
  {
   "cell_type": "markdown",
   "metadata": {
    "id": "4nIzvQF5MePe"
   },
   "source": [
    "# Transforming back to original scale\n",
    "\n",
    "Our original hypothesis is that the growth is exponential. This has the form:\n",
    "\n",
    "$$ C = C_0 r ^ t $$\n",
    "\n",
    "In this equation, $C$ is the transistor count, $t$ is the year, $C_0$ is the original transistor count at year $0$, and $r$ is the rate of growth.\n",
    "\n",
    "We made this equation linear by taking the log of both sides.\n",
    "\n",
    "$$ \\log C = \\log C_0 + \\log r * t $$\n",
    "\n",
    "Here, $\\log C$ represents the variable that goes along the y-axis, and $t$ represents the variable that goes along the x-axis.\n",
    "\n",
    "In other words, under our hypothesized model, the log of transistor counts is linear with respect to time.\n",
    "\n",
    "Let us rename the variables to a more familiar form:\n",
    "\n",
    "$$ y = a x + \\log C_0 $$\n",
    "\n",
    "Now $y=\\log C$ represents the log of transistor counts and $x=t$ represents time. $a = \\log r$ is the slope and $\\log C_0$ is the y-intercept.\n",
    "\n",
    "# Our Model\n",
    "\n",
    "We normalized the data as follows:\n",
    "\n",
    "$$ y' = \\frac{y - m_y}{s_y} $$\n",
    "\n",
    "$$ x' = \\frac{x - m_x}{s_x} $$\n",
    "\n",
    "Here, $m_x$ represents the sample mean of the $x$ data and $s_x$ represens the sample standard deviation of the $x$ data, with analogous definitions for $m_y$ and $s_y$.\n",
    "\n",
    "Our model looks like:\n",
    "\n",
    "$$ y' = wx' + b $$\n",
    "\n",
    "We can recover the original model by substituting $x'$ and $y'$ with corresponding expressions in terms of $x$ and $y$.\n",
    "\n",
    "$$ \\frac{y - m_y}{s_y} = w \\frac{x - m_x}{s_x} + b $$\n",
    "\n",
    "After some algebraic manipulation (try it yourself, it's only high school math), we get:\n",
    "\n",
    "$$ y = w \\frac{s_y}{s_x} x - w \\frac{s_y}{s_x} m_x + b s_y + m_y = a x + \\log C_0 $$\n",
    "\n",
    "It is clear that the coefficient in front of $x$ represents our original $a$, and the sum of all the other terms represents $\\log C_0$.\n",
    "\n",
    "We are only interested in the doubling time, so we have found that:\n",
    "\n",
    "$$ a = w \\frac{s_y}{s_x} $$"
   ]
  },
  {
   "cell_type": "code",
   "execution_count": 20,
   "metadata": {
    "colab": {
     "base_uri": "https://localhost:8080/",
     "height": 34
    },
    "id": "J4aVPrKZJ_U3",
    "outputId": "6c8f44f9-7c4c-4509-8d1c-2a7ba6800644"
   },
   "outputs": [
    {
     "name": "stdout",
     "output_type": "stream",
     "text": [
      "0.34154838909281104\n"
     ]
    }
   ],
   "source": [
    "a = w * sy / sx\n",
    "print(a)"
   ]
  },
  {
   "cell_type": "markdown",
   "metadata": {
    "id": "IfU4yeZBO4LK"
   },
   "source": [
    "# Exponential Growth Model\n",
    "\n",
    "Our equation is currently linear. We still need to find the doubling time.\n",
    "\n",
    "Our original model for exponential growth is:\n",
    "\n",
    "$$ C = C_0 r^t $$\n",
    "\n",
    "Where $ C $ is transistor the count and $ t $ is the year.\n",
    "\n",
    "$ r $ is the rate of growth. For example, when $ t $ goes from 1 to 2, $ C $ increases by a factor of $ r $. When $ t $ goes from 2 to 3, $ C $ increases by a factor of $ r $ again.\n",
    "\n",
    "When we take the log of both sides, we get:\n",
    "\n",
    "$$ \\log C = \\log r * t + \\log C_0 $$\n",
    "\n",
    "This is our linear equation:\n",
    "\n",
    "$$ y = ax + \\log C_0 $$\n",
    "\n",
    "Where:\n",
    "\n",
    "$$ y = \\log C $$\n",
    "$$ a = \\log r $$\n",
    "$$ x = t $$\n",
    "\n",
    "We are interested in $ r $, because that's the rate of growth. Given our regression weights, we know that:\n",
    "\n",
    "$$ a = 0.341659983 $$\n",
    "\n",
    "so that:\n",
    "\n",
    "$$ r = e^{0.341659983} = 1.40728 $$\n",
    "\n",
    "To find the time it takes for transistor count to double, we simply need to find the amount of time it takes for $ C $ to increase to $ 2C $.\n",
    "\n",
    "Let's call the original starting time $ t $, to correspond with the initial transistor count $ C $.\n",
    "\n",
    "Let's call the end time $ t' $, to correspond with the final transistor count $ 2C $.\n",
    "\n",
    "Then we also have:\n",
    "\n",
    "$$ 2C = C_0 r ^ {t'} $$\n",
    "\n",
    "Combine this with our original equation:\n",
    "\n",
    "$$ C = C_0 r^t $$\n",
    "\n",
    "We get (by dividing the 2 equations):\n",
    "\n",
    "$$ 2C/C = (C_0 r ^ {t'}) / C_0 r^t $$\n",
    "\n",
    "Which simplifies to:\n",
    "\n",
    "$$ 2 = r^{(t' - t)} $$\n",
    "\n",
    "Solve for $ t' - t $:\n",
    "\n",
    "$$ t' - t = \\frac{\\log 2}{\\log r} = \\frac{\\log2}{a}$$\n",
    "\n",
    "\n",
    "Important note! We haven't specified what the starting time $ t $ actually is, and we don't have to since we just proved that this holds for any $ t $."
   ]
  },
  {
   "cell_type": "code",
   "execution_count": 21,
   "metadata": {
    "colab": {
     "base_uri": "https://localhost:8080/",
     "height": 34
    },
    "id": "wLu3cW34LzHH",
    "outputId": "0dd3340e-cfaa-4e31-fdf0-347162831a9c"
   },
   "outputs": [
    {
     "name": "stdout",
     "output_type": "stream",
     "text": [
      "Time to double: 2.0294259984683816\n"
     ]
    }
   ],
   "source": [
    "print(\"Time to double:\", np.log(2) / a)"
   ]
  }
 ],
 "metadata": {
  "accelerator": "GPU",
  "colab": {
   "name": "PyTorch Regression (Moore's Law).ipynb",
   "provenance": []
  },
  "kernelspec": {
   "display_name": "Python 3 (ipykernel)",
   "language": "python",
   "name": "python3"
  },
  "language_info": {
   "codemirror_mode": {
    "name": "ipython",
    "version": 3
   },
   "file_extension": ".py",
   "mimetype": "text/x-python",
   "name": "python",
   "nbconvert_exporter": "python",
   "pygments_lexer": "ipython3",
   "version": "3.7.0"
  }
 },
 "nbformat": 4,
 "nbformat_minor": 1
}
